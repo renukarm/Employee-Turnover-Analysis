{
 "cells": [
  {
   "cell_type": "code",
   "execution_count": 1,
   "id": "07ee76ec-6cc0-4cc7-b6ed-eba4feb6ca0b",
   "metadata": {},
   "outputs": [
    {
     "data": {
      "text/html": [
       "<div>\n",
       "<style scoped>\n",
       "    .dataframe tbody tr th:only-of-type {\n",
       "        vertical-align: middle;\n",
       "    }\n",
       "\n",
       "    .dataframe tbody tr th {\n",
       "        vertical-align: top;\n",
       "    }\n",
       "\n",
       "    .dataframe thead th {\n",
       "        text-align: right;\n",
       "    }\n",
       "</style>\n",
       "<table border=\"1\" class=\"dataframe\">\n",
       "  <thead>\n",
       "    <tr style=\"text-align: right;\">\n",
       "      <th></th>\n",
       "      <th>department</th>\n",
       "      <th>promoted</th>\n",
       "      <th>review</th>\n",
       "      <th>projects</th>\n",
       "      <th>salary</th>\n",
       "      <th>tenure</th>\n",
       "      <th>satisfaction</th>\n",
       "      <th>bonus</th>\n",
       "      <th>avg_hrs_month</th>\n",
       "      <th>left</th>\n",
       "    </tr>\n",
       "  </thead>\n",
       "  <tbody>\n",
       "    <tr>\n",
       "      <th>9535</th>\n",
       "      <td>operations</td>\n",
       "      <td>0</td>\n",
       "      <td>0.610988</td>\n",
       "      <td>4</td>\n",
       "      <td>medium</td>\n",
       "      <td>8.0</td>\n",
       "      <td>0.543641</td>\n",
       "      <td>0</td>\n",
       "      <td>188.155738</td>\n",
       "      <td>yes</td>\n",
       "    </tr>\n",
       "    <tr>\n",
       "      <th>9536</th>\n",
       "      <td>logistics</td>\n",
       "      <td>0</td>\n",
       "      <td>0.746887</td>\n",
       "      <td>3</td>\n",
       "      <td>medium</td>\n",
       "      <td>8.0</td>\n",
       "      <td>0.549048</td>\n",
       "      <td>0</td>\n",
       "      <td>188.176164</td>\n",
       "      <td>yes</td>\n",
       "    </tr>\n",
       "    <tr>\n",
       "      <th>9537</th>\n",
       "      <td>operations</td>\n",
       "      <td>0</td>\n",
       "      <td>0.557980</td>\n",
       "      <td>3</td>\n",
       "      <td>low</td>\n",
       "      <td>7.0</td>\n",
       "      <td>0.705425</td>\n",
       "      <td>0</td>\n",
       "      <td>186.531008</td>\n",
       "      <td>yes</td>\n",
       "    </tr>\n",
       "    <tr>\n",
       "      <th>9538</th>\n",
       "      <td>IT</td>\n",
       "      <td>0</td>\n",
       "      <td>0.584446</td>\n",
       "      <td>4</td>\n",
       "      <td>medium</td>\n",
       "      <td>8.0</td>\n",
       "      <td>0.607287</td>\n",
       "      <td>1</td>\n",
       "      <td>187.641370</td>\n",
       "      <td>yes</td>\n",
       "    </tr>\n",
       "    <tr>\n",
       "      <th>9539</th>\n",
       "      <td>finance</td>\n",
       "      <td>0</td>\n",
       "      <td>0.626373</td>\n",
       "      <td>3</td>\n",
       "      <td>low</td>\n",
       "      <td>7.0</td>\n",
       "      <td>0.706455</td>\n",
       "      <td>1</td>\n",
       "      <td>185.920934</td>\n",
       "      <td>yes</td>\n",
       "    </tr>\n",
       "  </tbody>\n",
       "</table>\n",
       "</div>"
      ],
      "text/plain": [
       "      department  promoted    review  projects  salary  tenure  satisfaction  \\\n",
       "9535  operations         0  0.610988         4  medium     8.0      0.543641   \n",
       "9536   logistics         0  0.746887         3  medium     8.0      0.549048   \n",
       "9537  operations         0  0.557980         3     low     7.0      0.705425   \n",
       "9538          IT         0  0.584446         4  medium     8.0      0.607287   \n",
       "9539     finance         0  0.626373         3     low     7.0      0.706455   \n",
       "\n",
       "      bonus  avg_hrs_month left  \n",
       "9535      0     188.155738  yes  \n",
       "9536      0     188.176164  yes  \n",
       "9537      0     186.531008  yes  \n",
       "9538      1     187.641370  yes  \n",
       "9539      1     185.920934  yes  "
      ]
     },
     "execution_count": 1,
     "metadata": {},
     "output_type": "execute_result"
    }
   ],
   "source": [
    "import pandas as pd\n",
    "df = pd.read_csv(r'C:\\Users\\mssre\\Desktop\\Data\\employee_churn_data.csv')\n",
    "df.tail()"
   ]
  },
  {
   "cell_type": "markdown",
   "id": "1da98bb2-9b8c-418f-86ba-b89b8b117a1a",
   "metadata": {},
   "source": [
    "# Data Cleaning and Validation"
   ]
  },
  {
   "cell_type": "code",
   "execution_count": 2,
   "id": "c586cfe7-7f12-4dfa-8ae8-ef764b6d5ef8",
   "metadata": {},
   "outputs": [
    {
     "name": "stdout",
     "output_type": "stream",
     "text": [
      "<class 'pandas.core.frame.DataFrame'>\n",
      "RangeIndex: 9540 entries, 0 to 9539\n",
      "Data columns (total 11 columns):\n",
      " #   Column         Non-Null Count  Dtype  \n",
      "---  ------         --------------  -----  \n",
      " 0   department     9540 non-null   object \n",
      " 1   promoted       9540 non-null   int64  \n",
      " 2   review         9540 non-null   float64\n",
      " 3   projects       9540 non-null   int64  \n",
      " 4   salary         9540 non-null   object \n",
      " 5   tenure         9540 non-null   float64\n",
      " 6   satisfaction   9540 non-null   float64\n",
      " 7   bonus          9540 non-null   int64  \n",
      " 8   avg_hrs_month  9540 non-null   float64\n",
      " 9   left           9540 non-null   object \n",
      " 10  status         9540 non-null   int32  \n",
      "dtypes: float64(4), int32(1), int64(3), object(3)\n",
      "memory usage: 782.7+ KB\n"
     ]
    }
   ],
   "source": [
    "df[\"status\"]= (df[\"left\"]==\"yes\").astype('int')\n",
    "df.info()"
   ]
  },
  {
   "cell_type": "markdown",
   "id": "433fdf8c-0023-471f-84e0-d7a1953caa2e",
   "metadata": {},
   "source": [
    "# Department Stats\n",
    "1) Which department has the highest employee turnover? Which one has the lowest?"
   ]
  },
  {
   "cell_type": "code",
   "execution_count": 3,
   "id": "f2e6e604-56a0-4855-ae27-b0e0e415a588",
   "metadata": {},
   "outputs": [
    {
     "name": "stderr",
     "output_type": "stream",
     "text": [
      "<ipython-input-3-8cb3509e2236>:1: FutureWarning: Indexing with multiple keys (implicitly converted to a tuple of keys) will be deprecated, use a list instead.\n",
      "  deps=df.groupby('department')['department','status'].sum().sort_values('status',ascending=False)\n"
     ]
    },
    {
     "data": {
      "text/html": [
       "<div>\n",
       "<style scoped>\n",
       "    .dataframe tbody tr th:only-of-type {\n",
       "        vertical-align: middle;\n",
       "    }\n",
       "\n",
       "    .dataframe tbody tr th {\n",
       "        vertical-align: top;\n",
       "    }\n",
       "\n",
       "    .dataframe thead th {\n",
       "        text-align: right;\n",
       "    }\n",
       "</style>\n",
       "<table border=\"1\" class=\"dataframe\">\n",
       "  <thead>\n",
       "    <tr style=\"text-align: right;\">\n",
       "      <th></th>\n",
       "      <th>department</th>\n",
       "      <th>status</th>\n",
       "    </tr>\n",
       "  </thead>\n",
       "  <tbody>\n",
       "    <tr>\n",
       "      <th>0</th>\n",
       "      <td>sales</td>\n",
       "      <td>537</td>\n",
       "    </tr>\n",
       "    <tr>\n",
       "      <th>1</th>\n",
       "      <td>retail</td>\n",
       "      <td>471</td>\n",
       "    </tr>\n",
       "    <tr>\n",
       "      <th>2</th>\n",
       "      <td>engineering</td>\n",
       "      <td>437</td>\n",
       "    </tr>\n",
       "    <tr>\n",
       "      <th>3</th>\n",
       "      <td>operations</td>\n",
       "      <td>436</td>\n",
       "    </tr>\n",
       "    <tr>\n",
       "      <th>4</th>\n",
       "      <td>marketing</td>\n",
       "      <td>243</td>\n",
       "    </tr>\n",
       "    <tr>\n",
       "      <th>5</th>\n",
       "      <td>support</td>\n",
       "      <td>212</td>\n",
       "    </tr>\n",
       "    <tr>\n",
       "      <th>6</th>\n",
       "      <td>admin</td>\n",
       "      <td>119</td>\n",
       "    </tr>\n",
       "    <tr>\n",
       "      <th>7</th>\n",
       "      <td>logistics</td>\n",
       "      <td>111</td>\n",
       "    </tr>\n",
       "    <tr>\n",
       "      <th>8</th>\n",
       "      <td>IT</td>\n",
       "      <td>110</td>\n",
       "    </tr>\n",
       "    <tr>\n",
       "      <th>9</th>\n",
       "      <td>finance</td>\n",
       "      <td>108</td>\n",
       "    </tr>\n",
       "  </tbody>\n",
       "</table>\n",
       "</div>"
      ],
      "text/plain": [
       "    department  status\n",
       "0        sales     537\n",
       "1       retail     471\n",
       "2  engineering     437\n",
       "3   operations     436\n",
       "4    marketing     243\n",
       "5      support     212\n",
       "6        admin     119\n",
       "7    logistics     111\n",
       "8           IT     110\n",
       "9      finance     108"
      ]
     },
     "execution_count": 3,
     "metadata": {},
     "output_type": "execute_result"
    }
   ],
   "source": [
    "deps=df.groupby('department')['department','status'].sum().sort_values('status',ascending=False)\n",
    "dep_df= pd.DataFrame(deps)\n",
    "deps.reset_index(inplace=True)\n",
    "dep_df"
   ]
  },
  {
   "cell_type": "markdown",
   "id": "bbd84222-d069-49c2-b504-d81b740ee681",
   "metadata": {},
   "source": [
    "1) from the above table we can infer that sales department has highest turnover and finance the lowest."
   ]
  },
  {
   "cell_type": "code",
   "execution_count": 4,
   "id": "6bb7e3f3-82ea-4314-84e1-6274d5d109ed",
   "metadata": {},
   "outputs": [
    {
     "data": {
      "image/png": "[encoded data removed]",
      "text/plain": [
       "<Figure size 432x288 with 1 Axes>"
      ]
     },
     "metadata": {
      "needs_background": "light"
     },
     "output_type": "display_data"
    }
   ],
   "source": [
    "import matplotlib.pyplot as plt\n",
    "import seaborn as sns\n",
    "sns.barplot(x='department',y='status',data=dep_df)\n",
    "plt.xticks(rotation=90)\n",
    "plt.show()"
   ]
  },
  {
   "cell_type": "markdown",
   "id": "10462e36-c0e6-413a-b278-a8320d11feff",
   "metadata": {},
   "source": [
    "# Variable correlations"
   ]
  },
  {
   "cell_type": "code",
   "execution_count": 5,
   "id": "26e19fec-e724-4c99-acf9-efade647d950",
   "metadata": {},
   "outputs": [],
   "source": [
    "import numpy as np\n",
    "cor= df.corr()"
   ]
  },
  {
   "cell_type": "code",
   "execution_count": 6,
   "id": "73f2def0-740f-4d0d-af9f-5d9f62774522",
   "metadata": {},
   "outputs": [
    {
     "data": {
      "text/plain": [
       "<AxesSubplot:>"
      ]
     },
     "execution_count": 6,
     "metadata": {},
     "output_type": "execute_result"
    },
    {
     "data": {
      "image/png": "[encoded data removed]",
      "text/plain": [
       "<Figure size 576x576 with 2 Axes>"
      ]
     },
     "metadata": {
      "needs_background": "light"
     },
     "output_type": "display_data"
    }
   ],
   "source": [
    "plt.figure(figsize=(8,8))\n",
    "sns.heatmap(cor,annot=True)"
   ]
  },
  {
   "cell_type": "markdown",
   "id": "670cdbcf-3f34-4a56-b4dd-99bab13979c4",
   "metadata": {},
   "source": [
    "We can clearly see that reviews have good positive correlation with status, it means people with good review score tend to leave the company. i.e greater the review, higher chances of status=1"
   ]
  },
  {
   "cell_type": "markdown",
   "id": "a881546a-733e-471d-abef-43b26a32eae9",
   "metadata": {},
   "source": [
    "Investigating which variables seem to be better predictors of employee departure.\n",
    "Now let's prepare test, train data sets and test on different ML models"
   ]
  },
  {
   "cell_type": "markdown",
   "id": "f8610de8-ad22-45f9-b78e-bb01f1ebe1f4",
   "metadata": {},
   "source": [
    "\n",
    "# 1) ML model onsidering all variables to be important and checking the performance"
   ]
  },
  {
   "cell_type": "code",
   "execution_count": 7,
   "id": "f1feafd1-94d9-4887-9169-314c40ffa941",
   "metadata": {},
   "outputs": [],
   "source": [
    "from sklearn.model_selection import train_test_split\n",
    "from sklearn.linear_model import LogisticRegression\n",
    "from sklearn import metrics\n",
    "from sklearn.preprocessing import StandardScaler\n",
    "x_= df.drop(['status','left','department','salary'],axis=1)\n",
    "y= df['status']\n",
    "sca= StandardScaler()\n",
    "sca.fit(x_)\n",
    "x= sca.transform(x_)"
   ]
  },
  {
   "cell_type": "code",
   "execution_count": 8,
   "id": "91e06ac0-6bd2-46a2-87ab-c6c741b5a52f",
   "metadata": {},
   "outputs": [
    {
     "data": {
      "text/plain": [
       "0.7364242616703716"
      ]
     },
     "execution_count": 8,
     "metadata": {},
     "output_type": "execute_result"
    }
   ],
   "source": [
    "# considering all variables, Logistic Regression\n",
    "x_train,x_test,y_train,y_test= train_test_split(x,y,test_size=0.33,random_state=42)\n",
    "reg= LogisticRegression()\n",
    "reg.fit(x_train,y_train)\n",
    "y_pred= reg.predict(x_test)\n",
    "metrics.accuracy_score(y_test,y_pred)"
   ]
  },
  {
   "cell_type": "code",
   "execution_count": 9,
   "id": "4a2e2bbe-def5-4894-841b-677a9a41f27f",
   "metadata": {},
   "outputs": [
    {
     "data": {
      "text/plain": [
       "0.8450301683073992"
      ]
     },
     "execution_count": 9,
     "metadata": {},
     "output_type": "execute_result"
    }
   ],
   "source": [
    "#SVM\n",
    "from sklearn.svm import SVC\n",
    "sv= SVC()\n",
    "sv.fit(x_train,y_train)\n",
    "y_pred1= sv.predict(x_test)\n",
    "metrics.accuracy_score(y_test,y_pred1)"
   ]
  },
  {
   "cell_type": "code",
   "execution_count": 10,
   "id": "b08e4cc1-b2f4-4e38-b8e3-992d0a0f5b58",
   "metadata": {},
   "outputs": [
    {
     "name": "stderr",
     "output_type": "stream",
     "text": [
      "C:\\Users\\mssre\\anaconda3\\lib\\site-packages\\seaborn\\_decorators.py:36: FutureWarning: Pass the following variables as keyword args: x, y. From version 0.12, the only valid positional argument will be `data`, and passing other arguments without an explicit keyword will result in an error or misinterpretation.\n",
      "  warnings.warn(\n"
     ]
    },
    {
     "data": {
      "image/png": "[encoded data removed]",
      "text/plain": [
       "<Figure size 432x288 with 1 Axes>"
      ]
     },
     "metadata": {
      "needs_background": "light"
     },
     "output_type": "display_data"
    }
   ],
   "source": [
    "from sklearn.neighbors import KNeighborsClassifier\n",
    "kr= range(1,31)\n",
    "scores={}\n",
    "score_list= []\n",
    "for k in kr:\n",
    "    knn= KNeighborsClassifier(n_neighbors=k)\n",
    "    knn.fit(x_train,y_train)\n",
    "    y_pred2= knn.predict(x_test)\n",
    "    scores[k]= metrics.accuracy_score(y_test,y_pred2)\n",
    "    score_list.append(metrics.accuracy_score(y_test,y_pred2))\n",
    "sns.lineplot(kr,score_list)\n",
    "plt.show()"
   ]
  },
  {
   "cell_type": "markdown",
   "id": "f4b4c163-dd86-49e4-be43-d49965b2985b",
   "metadata": {},
   "source": [
    "we got good score for n_neighbors=9, so we take that"
   ]
  },
  {
   "cell_type": "code",
   "execution_count": 11,
   "id": "47ccdda7-2a6d-441d-beb2-61b2ad731c22",
   "metadata": {},
   "outputs": [
    {
     "data": {
      "text/plain": [
       "0.8580501746586218"
      ]
     },
     "execution_count": 11,
     "metadata": {},
     "output_type": "execute_result"
    }
   ],
   "source": [
    "# Using KNN\n",
    "knn= KNeighborsClassifier(n_neighbors=9)\n",
    "knn.fit(x_train,y_train)\n",
    "y_pred2= knn.predict(x_test)\n",
    "metrics.accuracy_score(y_test,y_pred2)"
   ]
  },
  {
   "cell_type": "markdown",
   "id": "6075b2e8-660e-4a34-a43e-57c5a2b48803",
   "metadata": {},
   "source": [
    "# 2) Model considering important variables and attempt to increase accuracy"
   ]
  },
  {
   "cell_type": "code",
   "execution_count": 12,
   "id": "4577e7e1-11a0-4dc3-9bae-66398be51fb4",
   "metadata": {},
   "outputs": [],
   "source": [
    "x__= df.drop(['status','left','department','salary','projects','bonus','promoted'],axis=1)\n",
    "y= df['status']\n",
    "scat= StandardScaler()\n",
    "scat.fit(x__)\n",
    "x1= scat.transform(x__)\n",
    "x1_train,x1_test,y1_train,y1_test= train_test_split(x1,y,test_size=0.33,random_state=42)"
   ]
  },
  {
   "cell_type": "code",
   "execution_count": 13,
   "id": "2ae744b0-f387-4a19-a377-0c67d7b7a8b3",
   "metadata": {},
   "outputs": [
    {
     "data": {
      "text/plain": [
       "0.73261352810416"
      ]
     },
     "execution_count": 13,
     "metadata": {},
     "output_type": "execute_result"
    }
   ],
   "source": [
    "reg1= LogisticRegression()\n",
    "reg1.fit(x1_train,y1_train)\n",
    "y1_pred= reg1.predict(x1_test)\n",
    "metrics.accuracy_score(y1_test,y1_pred)"
   ]
  },
  {
   "cell_type": "code",
   "execution_count": 14,
   "id": "1e85cec1-a1df-47c2-8701-47248d41bfdd",
   "metadata": {},
   "outputs": [
    {
     "data": {
      "text/plain": [
       "0.8618609082248333"
      ]
     },
     "execution_count": 14,
     "metadata": {},
     "output_type": "execute_result"
    }
   ],
   "source": [
    "#SVM\n",
    "from sklearn.svm import SVC\n",
    "sv1= SVC()\n",
    "sv1.fit(x1_train,y1_train)\n",
    "y1_pred1= sv1.predict(x1_test)\n",
    "metrics.accuracy_score(y1_test,y1_pred1)"
   ]
  },
  {
   "cell_type": "code",
   "execution_count": 15,
   "id": "2a195141-d53d-4f2d-8765-9364dc375b8d",
   "metadata": {},
   "outputs": [
    {
     "name": "stderr",
     "output_type": "stream",
     "text": [
      "C:\\Users\\mssre\\anaconda3\\lib\\site-packages\\seaborn\\_decorators.py:36: FutureWarning: Pass the following variables as keyword args: x, y. From version 0.12, the only valid positional argument will be `data`, and passing other arguments without an explicit keyword will result in an error or misinterpretation.\n",
      "  warnings.warn(\n"
     ]
    },
    {
     "data": {
      "image/png": "[encoded data removed]",
      "text/plain": [
       "<Figure size 432x288 with 1 Axes>"
      ]
     },
     "metadata": {
      "needs_background": "light"
     },
     "output_type": "display_data"
    }
   ],
   "source": [
    "from sklearn.neighbors import KNeighborsClassifier\n",
    "kr1= range(1,31)\n",
    "scores1={}\n",
    "score_list1= []\n",
    "for k in kr:\n",
    "    knn= KNeighborsClassifier(n_neighbors=k)\n",
    "    knn.fit(x1_train,y1_train)\n",
    "    y1_pred2= knn.predict(x1_test)\n",
    "    scores1[k]= metrics.accuracy_score(y1_test,y1_pred2)\n",
    "    score_list1.append(metrics.accuracy_score(y1_test,y1_pred2))\n",
    "sns.lineplot(kr1,score_list1)\n",
    "plt.show()"
   ]
  },
  {
   "cell_type": "code",
   "execution_count": 16,
   "id": "2c94bce6-2dbe-46d3-bcd8-eb3a44fcae49",
   "metadata": {},
   "outputs": [
    {
     "data": {
      "text/plain": [
       "0.871387742140362"
      ]
     },
     "execution_count": 16,
     "metadata": {},
     "output_type": "execute_result"
    }
   ],
   "source": [
    "# Using KNN\n",
    "knn1= KNeighborsClassifier(n_neighbors=9)\n",
    "knn1.fit(x1_train,y1_train)\n",
    "y1_pred2= knn1.predict(x1_test)\n",
    "metrics.accuracy_score(y1_test,y1_pred2)"
   ]
  },
  {
   "cell_type": "markdown",
   "id": "83db566b-2026-4fcd-9b3d-c8fe4f6bace9",
   "metadata": {},
   "source": [
    "# Investigating which variables seem to be better predictors of employee departure."
   ]
  },
  {
   "cell_type": "code",
   "execution_count": 17,
   "id": "e99fe640-6e5e-4fa6-a30d-64a0acd78c16",
   "metadata": {},
   "outputs": [
    {
     "data": {
      "text/plain": [
       "salary  status\n",
       "high    0         1106\n",
       "        1          442\n",
       "low     0          990\n",
       "        1          391\n",
       "medium  0         4660\n",
       "        1         1951\n",
       "Name: left, dtype: int64"
      ]
     },
     "execution_count": 17,
     "metadata": {},
     "output_type": "execute_result"
    }
   ],
   "source": [
    "df.groupby(['salary','status']).count()['left']"
   ]
  },
  {
   "cell_type": "markdown",
   "id": "2571f008-88d7-4e11-b900-b84c88435fec",
   "metadata": {},
   "source": [
    "Observations from above table: \n",
    "1) Among employees with high salaries, 28.55% of them left the company.\n",
    "2) Among employees with low salary, 28.31% of them left the compaby.\n",
    "3) Among employees with medium salary, 29.51% of them left the comany\n",
    "\n",
    "Since the employee turnover in all the above cases are very close, we can't predict based on salary. And hence we can use ML Models to do so."
   ]
  },
  {
   "cell_type": "markdown",
   "id": "96079e6a-51ba-4798-b9b3-ecac2b5fd94e",
   "metadata": {},
   "source": [
    "# Observations     "
   ]
  },
  {
   "cell_type": "markdown",
   "id": "c6b38f5f-5dd1-4dc3-8e2a-f26a664bf2cc",
   "metadata": {},
   "source": [
    "First of all, there are no high correlations among target variable and predictor variable. But there is a good correlation of status with review, so we will be using review all the time.\n",
    "\n",
    "We also used Logistic Regression and SVM along with KNN to try out different models and check the accuracy, clearly KNN performed better.\n",
    "1) In the first case of using all variables as predictor variables, the highest accuracy we got is 85.80% through KNN Classifier with n_estimator of 9.\n",
    "2) In the second case, I proceeded to eliminate bonus,projects,and promoted variables because they don't have good correlations with any other variables and got accuracy of 87.13% through KNN Classifier. This is a spike of 1.33%. Considering how huge the dataset is, this is a good thing we got increase of 1.33%."
   ]
  },
  {
   "cell_type": "markdown",
   "id": "e978544f-91f0-4ae3-89c3-56a31de08a8f",
   "metadata": {},
   "source": [
    "Talking about the better predictors of employee turnover, \n",
    "1) review, good correlation with status. That means higher the review (better performing employees) higher the chances of leaving the company\n",
    "2) satisfaction and bonus have negative correlation with status. That means less satisfaction and no bonus leads to higher chance of employee leaving the company.\n",
    "3) avg_hrs_month and status have positive correlation with the status."
   ]
  },
  {
   "cell_type": "markdown",
   "id": "031bab54-a90f-4603-a67f-548f99aa6b4a",
   "metadata": {},
   "source": [
    "# Recommendations to reduce employee turnover"
   ]
  },
  {
   "cell_type": "markdown",
   "id": "9a7e3405-f308-49ba-ae54-409d6ece5dab",
   "metadata": {},
   "source": [
    "1) From the correlations and observations, I've observed confident employees with good review, and less satisfaction are tend to leave the company. So my general recommendations are know the reasons of dissatisfaction and rectify them, offer benefits to employees with low salaries and assign them interesting projects. From graphs and calculations we can't make best recommendations actually. \n",
    "\n",
    "2) My best idea to prevent employee turnover is to train a KNN Classifier model with previous employee data and test with current employees and predict the employees who might leave. Now from the predictions consider data of people who are gonna leave and further analyse it and rectify the problems.\n",
    "\n",
    "Example: Now, we've tested the current employee data with KNN Classifier trained with previous data. Now we can seperate data of employees from prediction who are gonna leave. In that data, \n",
    "1) let's consider employees with low salary and good performance, we can make them stay by increasing salary\n",
    "2) Now, employees with good salary, good performance but less satisfaction, we can make them stay by assigning intersting or challenging roles.\n",
    "3) Finally, employees with good performance, good satisfaction and good review but still leaving. We can make them stay by promoting them appropriately."
   ]
  }
 ],
 "metadata": {
  "kernelspec": {
   "display_name": "Python 3",
   "language": "python",
   "name": "python3"
  },
  "language_info": {
   "codemirror_mode": {
    "name": "ipython",
    "version": 3
   },
   "file_extension": ".py",
   "mimetype": "text/x-python",
   "name": "python",
   "nbconvert_exporter": "python",
   "pygments_lexer": "ipython3",
   "version": "3.8.8"
  }
 },
 "nbformat": 4,
 "nbformat_minor": 5
}
